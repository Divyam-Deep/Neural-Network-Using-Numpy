{
  "nbformat": 4,
  "nbformat_minor": 0,
  "metadata": {
    "colab": {
      "provenance": [],
      "authorship_tag": "ABX9TyML44ihdH3MG/zRl5LX3JFM",
      "include_colab_link": true
    },
    "kernelspec": {
      "name": "python3",
      "display_name": "Python 3"
    },
    "language_info": {
      "name": "python"
    }
  },
  "cells": [
    {
      "cell_type": "markdown",
      "metadata": {
        "id": "view-in-github",
        "colab_type": "text"
      },
      "source": [
        "<a href=\"https://colab.research.google.com/github/Divyam-Deep/Neural-Network-Using-Numpy/blob/main/Neural_Network.ipynb\" target=\"_parent\"><img src=\"https://colab.research.google.com/assets/colab-badge.svg\" alt=\"Open In Colab\"/></a>"
      ]
    },
    {
      "cell_type": "code",
      "execution_count": 2,
      "metadata": {
        "id": "ZTM6aYgnQRcj"
      },
      "outputs": [],
      "source": [
        "import numpy as np\n",
        "import matplotlib.pyplot as plt\n",
        "from mpl_toolkits.mplot3d import Axes3D"
      ]
    },
    {
      "cell_type": "code",
      "source": [
        "# generating random inputs for practices\n",
        "\n",
        "observation = 1000\n",
        "xp = np.random.uniform(-10,10, size = (observation, 1))  #observation 1 is we want x variable in the eaquation\n",
        "zp = np.random.uniform(-10,10, size = (observation, 1))\n",
        "\n",
        "#combining both z and z variable in one\n",
        "\n",
        "input = np.column_stack((xp,zp))\n",
        "print(input.shape)"
      ],
      "metadata": {
        "colab": {
          "base_uri": "https://localhost:8080/"
        },
        "id": "zqRAi9NvQsas",
        "outputId": "d6969e3e-f1f5-4e44-b450-43fab7446a78"
      },
      "execution_count": 6,
      "outputs": [
        {
          "output_type": "stream",
          "name": "stdout",
          "text": [
            "(1000, 2)\n"
          ]
        }
      ]
    },
    {
      "cell_type": "code",
      "source": [
        "# in linear model we provide input and target ; weights, bias, learning rate will be done by machine\n",
        "# assuming targets = 2*x - 3*z + 5 (bias) + noise(there will be somme noise in original data)\n",
        "\n",
        "noise = np.random.uniform(-1,1, size = (observation, 1))\n",
        "\n",
        "target = 2*xp - 3*zp + 5 + noise\n",
        "print(target.shape)  # same shape as input so its good"
      ],
      "metadata": {
        "colab": {
          "base_uri": "https://localhost:8080/"
        },
        "id": "0_wyJoKiR2Sh",
        "outputId": "45fd4364-2476-4c58-9bce-699afb29c725"
      },
      "execution_count": 7,
      "outputs": [
        {
          "output_type": "stream",
          "name": "stdout",
          "text": [
            "(1000, 1)\n"
          ]
        }
      ]
    },
    {
      "cell_type": "code",
      "source": [
        "# lets make the linear model y=xw+b\n",
        "\n",
        "init_range = 0.1 #this is the radius of the range in which we will select random number as weights and bias\n",
        "\n",
        "weights = np.random.uniform(-init_range, init_range, size = (2,1)) #as we have two veriables\n",
        "bias = np.random.uniform(-init_range, init_range, size = 1)\n",
        "\n",
        "print(weights)\n",
        "print(bias)"
      ],
      "metadata": {
        "colab": {
          "base_uri": "https://localhost:8080/"
        },
        "id": "XqkyqfwdT5wr",
        "outputId": "bbf494c8-1f82-472d-b016-a09c6343965c"
      },
      "execution_count": 9,
      "outputs": [
        {
          "output_type": "stream",
          "name": "stdout",
          "text": [
            "[[0.05700567]\n",
            " [0.09444863]]\n",
            "[-0.05063645]\n"
          ]
        }
      ]
    },
    {
      "cell_type": "code",
      "source": [
        "# setting the learning rate\n",
        "learning_rate = 0.02 # value is random\n"
      ],
      "metadata": {
        "id": "PKAD_hudVsq5"
      },
      "execution_count": 10,
      "outputs": []
    },
    {
      "cell_type": "code",
      "source": [
        "# train the model ( as its regression we will work with loss function so will work with l2 norm) low loss function more acc\n",
        "for i in range(100):\n",
        "    output = np.dot(input, weights) + bias  # linear model equation\n",
        "    deltas = (output - target)\n",
        "    loss = np.sum(deltas**2)/2/observation   #sum(deltas**2) its l2 norm formula\n",
        "\n",
        "    print(loss)\n",
        "    deltas_scaled = deltas / observation\n",
        "    weights = weights - learning_rate * np.dot(input.T, deltas_scaled)  #this is the update rule for Gradient Descent\n",
        "    bias = bias - learning_rate * np.sum(deltas_scaled)"
      ],
      "metadata": {
        "colab": {
          "base_uri": "https://localhost:8080/"
        },
        "id": "VTUMZGsLWQ32",
        "outputId": "bbddec2e-8b48-4813-f66a-272a564a719a"
      },
      "execution_count": 11,
      "outputs": [
        {
          "output_type": "stream",
          "name": "stdout",
          "text": [
            "226.64738796024497\n",
            "39.84989784205727\n",
            "15.601235872795668\n",
            "12.057626438028969\n",
            "11.204155922663222\n",
            "10.717562129120603\n",
            "10.294109077145952\n",
            "9.89321583726949\n",
            "9.508940704855188\n",
            "9.139953838856814\n",
            "8.785561055627118\n",
            "8.44517359672502\n",
            "8.118236431278158\n",
            "7.80421786661298\n",
            "7.502607408743788\n",
            "7.212914760836937\n",
            "6.93466900305067\n",
            "6.6674178238939605\n",
            "6.410726784535431\n",
            "6.1641786125303115\n",
            "5.927372523501986\n",
            "5.699923569632906\n",
            "5.481462013900062\n",
            "5.271632729036932\n",
            "5.070094620244859\n",
            "4.876520070715323\n",
            "4.690594409061814\n",
            "4.512015397795557\n",
            "4.340492742013565\n",
            "4.175747617500341\n",
            "4.017512217476142\n",
            "3.865529317254962\n",
            "3.719551856104623\n",
            "3.5793425356291775\n",
            "3.444673434020815\n",
            "3.3153256355541676\n",
            "3.1910888747207555\n",
            "3.071761194425072\n",
            "2.9571486176866846\n",
            "2.847064832314644\n",
            "2.741330888041681\n",
            "2.6397749056257895\n",
            "2.542231797446344\n",
            "2.4485429991405714\n",
            "2.3585562118441095\n",
            "2.2721251546166403\n",
            "2.1891093266501795\n",
            "2.1093737788734117\n",
            "2.032788894580871\n",
            "1.9592301787302844\n",
            "1.8885780555656324\n",
            "1.820717674236894\n",
            "1.7555387221005216\n",
            "1.6929352453971527\n",
            "1.6328054770150358\n",
            "1.575051671059196\n",
            "1.51957994395744\n",
            "1.4663001218448577\n",
            "1.4151255939787775\n",
            "1.3659731719458632\n",
            "1.3187629544324921\n",
            "1.2734181973385839\n",
            "1.229865189023737\n",
            "1.1880331304828835\n",
            "1.147854020256672\n",
            "1.1092625438894856\n",
            "1.072195967755417\n",
            "1.0365940370795785\n",
            "1.0023988779890103\n",
            "0.9695549034339214\n",
            "0.9380087228263596\n",
            "0.9077090552494134\n",
            "0.8786066460958514\n",
            "0.8506541870006971\n",
            "0.823806238937585\n",
            "0.7980191583538774\n",
            "0.7732510262244687\n",
            "0.7494615799089588\n",
            "0.7266121477014108\n",
            "0.7046655859663042\n",
            "0.6835862187584956\n",
            "0.6633397798290267\n",
            "0.6438933569225153\n",
            "0.6252153382755675\n",
            "0.6072753612292542\n",
            "0.5900442628721033\n",
            "0.5734940326333848\n",
            "0.557597766749619\n",
            "0.5423296245302904\n",
            "0.5276647863516789\n",
            "0.5135794133105074\n",
            "0.5000506084718491\n",
            "0.48705637964826676\n",
            "0.4745756036496998\n",
            "0.4625879919459785\n",
            "0.4510740576861463\n",
            "0.4400150840209758\n",
            "0.4293930936771894\n",
            "0.4191908197339178\n",
            "0.40939167755389805\n"
          ]
        }
      ]
    },
    {
      "cell_type": "code",
      "source": [
        "print(weights)\n",
        "print(bias)"
      ],
      "metadata": {
        "colab": {
          "base_uri": "https://localhost:8080/"
        },
        "id": "_1v0Zz8gocE1",
        "outputId": "d6ddaf15-56db-4df0-df89-cb72e0a2cbb3"
      },
      "execution_count": 12,
      "outputs": [
        {
          "output_type": "stream",
          "name": "stdout",
          "text": [
            "[[ 2.00511559]\n",
            " [-2.99917195]]\n",
            "[4.3478065]\n"
          ]
        }
      ]
    },
    {
      "cell_type": "code",
      "source": [
        "# our target was targets = 2*x - 3*z + 5 (bias) + noise and we get x= 2.0 and z = -2.9 values  and bias as 4.3 it seems good it will improve if we increase the iteration aroind 200 or something"
      ],
      "metadata": {
        "id": "Uzl55BmjpGch"
      },
      "execution_count": null,
      "outputs": []
    },
    {
      "cell_type": "code",
      "source": [
        "plt.plot(output,target)\n",
        "plt.show()"
      ],
      "metadata": {
        "colab": {
          "base_uri": "https://localhost:8080/",
          "height": 430
        },
        "id": "25ubkP0pp6KM",
        "outputId": "f192606f-edbb-43ed-8088-3cad79f255f3"
      },
      "execution_count": 13,
      "outputs": [
        {
          "output_type": "display_data",
          "data": {
            "text/plain": [
              "<Figure size 640x480 with 1 Axes>"
            ],
            "image/png": "[encoded data removed]"
          },
          "metadata": {}
        }
      ]
    },
    {
      "cell_type": "code",
      "source": [],
      "metadata": {
        "id": "geZWiDa-p_xo"
      },
      "execution_count": null,
      "outputs": []
    }
  ]
}